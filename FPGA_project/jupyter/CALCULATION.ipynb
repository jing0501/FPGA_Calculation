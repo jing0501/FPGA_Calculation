{
 "cells": [
  {
   "cell_type": "code",
   "execution_count": 50,
   "id": "5afb90d4",
   "metadata": {},
   "outputs": [],
   "source": [
    "# 用FPGA实现简单的四则运算 加减乘整除\n",
    "# 作者：哈尔滨工业大学（深圳)陈舒扬 厦门大学 黄婧"
   ]
  },
  {
   "cell_type": "code",
   "execution_count": 51,
   "id": "f62c1cd8",
   "metadata": {},
   "outputs": [],
   "source": [
    "from pynq import Overlay\n",
    "overlay = Overlay(\"./calculation.bit\")\n",
    "cal= overlay.mul_0 "
   ]
  },
  {
   "cell_type": "code",
   "execution_count": 52,
   "id": "c8e5d5c0",
   "metadata": {},
   "outputs": [
    {
     "data": {
      "text/plain": [
       "18"
      ]
     },
     "execution_count": 52,
     "metadata": {},
     "output_type": "execute_result"
    }
   ],
   "source": [
    "cal.write(0x10,15)\n",
    "cal.write(0x18,3)\n",
    "cal.read(0x20)\n"
   ]
  },
  {
   "cell_type": "code",
   "execution_count": 53,
   "id": "a8242ad9",
   "metadata": {},
   "outputs": [
    {
     "data": {
      "text/plain": [
       "12"
      ]
     },
     "execution_count": 53,
     "metadata": {},
     "output_type": "execute_result"
    }
   ],
   "source": [
    "cal.read(0x30)"
   ]
  },
  {
   "cell_type": "code",
   "execution_count": 54,
   "id": "2a792685",
   "metadata": {},
   "outputs": [
    {
     "data": {
      "text/plain": [
       "45"
      ]
     },
     "execution_count": 54,
     "metadata": {},
     "output_type": "execute_result"
    }
   ],
   "source": [
    "cal.read(0x40)"
   ]
  },
  {
   "cell_type": "code",
   "execution_count": 55,
   "id": "23174c7a",
   "metadata": {},
   "outputs": [
    {
     "data": {
      "text/plain": [
       "5"
      ]
     },
     "execution_count": 55,
     "metadata": {},
     "output_type": "execute_result"
    }
   ],
   "source": [
    "cal.read(0x50)"
   ]
  },
  {
   "cell_type": "code",
   "execution_count": null,
   "id": "0ecae295",
   "metadata": {},
   "outputs": [],
   "source": []
  },
  {
   "cell_type": "code",
   "execution_count": null,
   "id": "fa6d3474",
   "metadata": {},
   "outputs": [],
   "source": []
  },
  {
   "cell_type": "code",
   "execution_count": null,
   "id": "0b180ad4",
   "metadata": {},
   "outputs": [],
   "source": []
  }
 ],
 "metadata": {
  "kernelspec": {
   "display_name": "Python 3",
   "language": "python",
   "name": "python3"
  },
  "language_info": {
   "codemirror_mode": {
    "name": "ipython",
    "version": 3
   },
   "file_extension": ".py",
   "mimetype": "text/x-python",
   "name": "python",
   "nbconvert_exporter": "python",
   "pygments_lexer": "ipython3",
   "version": "3.8.2"
  }
 },
 "nbformat": 4,
 "nbformat_minor": 5
}
